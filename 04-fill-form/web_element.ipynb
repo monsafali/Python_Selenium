{
 "cells": [
  {
   "cell_type": "code",
   "execution_count": 22,
   "metadata": {},
   "outputs": [
    {
     "name": "stderr",
     "output_type": "stream",
     "text": [
      "C:\\Users\\Kamal\\AppData\\Local\\Temp\\ipykernel_12960\\2356105188.py:6: DeprecationWarning: executable_path has been deprecated, please pass in a Service object\n",
      "  driver = webdriver.Chrome(ChromeDriverManager().install())\n"
     ]
    }
   ],
   "source": [
    "from selenium import webdriver\n",
    "from webdriver_manager.chrome import ChromeDriverManager\n",
    "from selenium.webdriver.common.by import By\n",
    "from selenium.webdriver.common.keys import Keys\n",
    "import time\n",
    "driver = webdriver.Chrome(ChromeDriverManager().install())\n"
   ]
  },
  {
   "cell_type": "code",
   "execution_count": 24,
   "metadata": {},
   "outputs": [],
   "source": [
    "driver.get('https://alnafi.com/sign-in')\n",
    "driver.maximize_window()\n",
    "my_user_name = driver.find_element(By.ID,'Username/ Email')\n",
    "my_user_name.send_keys('ghulammustafapy@gmail.com')\n",
    "password = driver.find_element(By.ID, 'Password')\n",
    "password.send_keys('Alnafi!1')\n",
    "sign_in = driver.find_element(By.XPATH,'//*[@id=\"__nuxt\"]/div/div/div[1]/div/div/form/div[3]/button')\n",
    "time.sleep(2)\n",
    "sign_in.click()\n",
    "time.sleep(5)\n",
    "driver.quit()"
   ]
  },
  {
   "cell_type": "code",
   "execution_count": null,
   "metadata": {},
   "outputs": [],
   "source": []
  }
 ],
 "metadata": {
  "kernelspec": {
   "display_name": "Python 3",
   "language": "python",
   "name": "python3"
  },
  "language_info": {
   "codemirror_mode": {
    "name": "ipython",
    "version": 3
   },
   "file_extension": ".py",
   "mimetype": "text/x-python",
   "name": "python",
   "nbconvert_exporter": "python",
   "pygments_lexer": "ipython3",
   "version": "3.9.1"
  },
  "orig_nbformat": 4
 },
 "nbformat": 4,
 "nbformat_minor": 2
}
