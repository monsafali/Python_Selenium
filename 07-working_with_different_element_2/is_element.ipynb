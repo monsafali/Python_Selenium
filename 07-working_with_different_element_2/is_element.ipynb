{
 "cells": [
  {
   "cell_type": "code",
   "execution_count": 8,
   "metadata": {},
   "outputs": [],
   "source": [
    "from selenium import webdriver\n",
    "from webdriver_manager.firefox import GeckoDriverManager\n",
    "from selenium.webdriver.common.by import By\n",
    "from selenium.webdriver.support.select import Select\n",
    "from selenium.common import NoSuchElementException\n",
    "# driver = webdriver.Firefox(executable_path=GeckoDriverManager().install())\n",
    "import time"
   ]
  },
  {
   "cell_type": "code",
   "execution_count": 24,
   "metadata": {},
   "outputs": [
    {
     "name": "stderr",
     "output_type": "stream",
     "text": [
      "C:\\Users\\Kamal\\AppData\\Local\\Temp\\ipykernel_14956\\1349564645.py:1: DeprecationWarning: executable_path has been deprecated, please pass in a Service object\n",
      "  driver = webdriver.Firefox(executable_path=GeckoDriverManager().install())\n"
     ]
    }
   ],
   "source": [
    "driver = webdriver.Firefox(executable_path=GeckoDriverManager().install())\n",
    "driver.get('https://www.alnafi.com')\n",
    "driver.maximize_window()"
   ]
  },
  {
   "cell_type": "code",
   "execution_count": 22,
   "metadata": {},
   "outputs": [
    {
     "name": "stdout",
     "output_type": "stream",
     "text": [
      "True\n",
      "False\n",
      "True\n"
     ]
    }
   ],
   "source": [
    "# we are creating ower own function to check element is present or not\n",
    "def is_elements_avail(att,abd):\n",
    "    try:\n",
    "        driver.find_element(by=att,value=abd)\n",
    "        return True\n",
    "    except NoSuchElementException:\n",
    "        return False\n",
    "print(is_elements_avail(By.TAG_NAME,'a'))\n",
    "print(is_elements_avail(By.XPATH,'kamal'))\n",
    "print(is_elements_avail(By.TAG_NAME,'div'))"
   ]
  },
  {
   "cell_type": "code",
   "execution_count": null,
   "metadata": {},
   "outputs": [],
   "source": [
    "# we can also check this code with if else condition\n",
    "def is_elements_avail(att,abd):\n",
    "        if len(driver.find_elements(by=att,value=abd)) == 0:\n",
    "                return False\n",
    "        else:\n",
    "                return True\n",
    "\n",
    "print(is_elements_avail(By.TAG_NAME,'a'))\n",
    "# print(is_elements_avail(By.XPATH,'kamal'))\n",
    "# print(is_elements_avail(By.TAG_NAME,'div'))"
   ]
  },
  {
   "cell_type": "code",
   "execution_count": null,
   "metadata": {},
   "outputs": [],
   "source": []
  }
 ],
 "metadata": {
  "kernelspec": {
   "display_name": "Python 3",
   "language": "python",
   "name": "python3"
  },
  "language_info": {
   "codemirror_mode": {
    "name": "ipython",
    "version": 3
   },
   "file_extension": ".py",
   "mimetype": "text/x-python",
   "name": "python",
   "nbconvert_exporter": "python",
   "pygments_lexer": "ipython3",
   "version": "3.9.1"
  },
  "orig_nbformat": 4
 },
 "nbformat": 4,
 "nbformat_minor": 2
}
