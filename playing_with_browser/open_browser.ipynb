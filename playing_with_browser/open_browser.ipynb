{
 "cells": [
  {
   "cell_type": "code",
   "execution_count": 7,
   "metadata": {},
   "outputs": [],
   "source": [
    "# how to install python selenium in vscode\n",
    "from selenium import webdriver\n",
    "from webdriver_manager.chrome import ChromeDriverManager\n",
    "from webdriver_manager.microsoft import EdgeChromiumDriverManager\n",
    "from webdriver_manager.firefox import GeckoDriverManager\n",
    "from selenium.webdriver.common.service import Service\n",
    "from selenium.webdriver.firefox.service import Service\n",
    "from selenium.webdriver.chrome.options import Options\n",
    "from selenium.webdriver.common.by import By\n",
    "import time"
   ]
  },
  {
   "cell_type": "code",
   "execution_count": 2,
   "metadata": {},
   "outputs": [],
   "source": [
    "Browser_name = 'chrome'"
   ]
  },
  {
   "cell_type": "code",
   "execution_count": null,
   "metadata": {},
   "outputs": [],
   "source": [
    "if Browser_name == 'chrome':\n",
    "    driver = webdriver.Chrome(executable_path=ChromeDriverManager().install())\n",
    "elif Browser_name == 'Edge':\n",
    "    driver = webdriver.Edge(executable_path=EdgeChromiumDriverManager().install())\n",
    "elif Browser_name == 'firefox':\n",
    "    webdriver.Firefox(executable_path=GeckoDriverManager().install())"
   ]
  },
  {
   "cell_type": "code",
   "execution_count": 6,
   "metadata": {},
   "outputs": [
    {
     "name": "stdout",
     "output_type": "stream",
     "text": [
      "yes we verifited and tilt name is :Al Nafi: Online Courses, Certifications & Training in Emerging Technologies\n"
     ]
    }
   ],
   "source": [
    "driver.get(\"https://www.alnafi.com\")\n",
    "driver.maximize_window()\n",
    "title = driver.title\n",
    "if title == \"Al Nafi: Online Courses, Certifications & Training in Emerging Technologies\":\n",
    "    print(f\"yes we verifited and tilt name is :{title}\")\n",
    "else:\n",
    "    print('Sorry title not found')\n",
    "driver.quit()"
   ]
  },
  {
   "cell_type": "code",
   "execution_count": null,
   "metadata": {},
   "outputs": [],
   "source": []
  }
 ],
 "metadata": {
  "kernelspec": {
   "display_name": "Python 3",
   "language": "python",
   "name": "python3"
  },
  "language_info": {
   "codemirror_mode": {
    "name": "ipython",
    "version": 3
   },
   "file_extension": ".py",
   "mimetype": "text/x-python",
   "name": "python",
   "nbconvert_exporter": "python",
   "pygments_lexer": "ipython3",
   "version": "3.9.1"
  },
  "orig_nbformat": 4
 },
 "nbformat": 4,
 "nbformat_minor": 2
}
